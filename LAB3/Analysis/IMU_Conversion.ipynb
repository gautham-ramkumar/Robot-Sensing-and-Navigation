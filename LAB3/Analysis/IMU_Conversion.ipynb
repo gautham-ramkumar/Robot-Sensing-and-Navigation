{
 "cells": [
  {
   "cell_type": "code",
   "execution_count": null,
   "id": "f56d181f-7079-4216-b2ef-159045f6c9f6",
   "metadata": {},
   "outputs": [
    {
     "name": "stderr",
     "output_type": "stream",
     "text": [
      "[INFO] [1728940277.568765358] [rosbag2_storage]: Opened database '/home/rgautham20/lab3/fivehour1data.bag/fivehour1data.bag_0.db3' for READ_ONLY.\n"
     ]
    }
   ],
   "source": [
    "import rosbag2_py\n",
    "import numpy as np\n",
    "from scipy.io import savemat\n",
    "from rclpy.serialization import deserialize_message\n",
    "from rosidl_runtime_py.utilities import get_message\n",
    "\n",
    "def read_rosbag(db3_file_path, topic_name):\n",
    "    storage_options = rosbag2_py.StorageOptions(uri=db3_file_path, storage_id='sqlite3')\n",
    "    converter_options = rosbag2_py.ConverterOptions('', '')\n",
    "    reader = rosbag2_py.SequentialReader()\n",
    "    reader.open(storage_options, converter_options)\n",
    "    type_name = reader.get_all_topics_and_types()[0].type\n",
    "    msg_type = get_message(type_name)\n",
    "    imu_data = {'angular_velocity': [], 'linear_acceleration': [], 'magnetic_field': [], 'timestamps': []}\n",
    "\n",
    "    while reader.has_next():\n",
    "        (topic, data, timestamp) = reader.read_next()\n",
    "        if topic == topic_name:\n",
    "            msg = deserialize_message(data, msg_type)\n",
    "            # Access nested imu and mag_field data\n",
    "            imu_data['angular_velocity'].append([msg.imu.angular_velocity.x, msg.imu.angular_velocity.y, msg.imu.angular_velocity.z])\n",
    "            imu_data['linear_acceleration'].append([msg.imu.linear_acceleration.x, msg.imu.linear_acceleration.y, msg.imu.linear_acceleration.z])\n",
    "            imu_data['magnetic_field'].append([msg.mag_field.magnetic_field.x, msg.mag_field.magnetic_field.y, msg.mag_field.magnetic_field.z])\n",
    "            imu_data['timestamps'].append(timestamp * 1e-9)\n",
    "\n",
    "    imu_data['angular_velocity'] = np.array(imu_data['angular_velocity'])\n",
    "    imu_data['linear_acceleration'] = np.array(imu_data['linear_acceleration'])\n",
    "    imu_data['magnetic_field'] = np.array(imu_data['magnetic_field'])\n",
    "    imu_data['timestamps'] = np.array(imu_data['timestamps'])\n",
    "\n",
    "    return imu_data\n",
    "\n",
    "# Replace with the actual path and topic\n",
    "imu_data = read_rosbag('/home/rgautham20/lab3/fivehour1data.bag/fivehour1data.bag_0.db3', '/imu')\n",
    "\n",
    "# Save to .mat file\n",
    "savemat('imu_data.mat', imu_data)\n"
   ]
  },
  {
   "cell_type": "code",
   "execution_count": null,
   "id": "665497be-344f-4578-83e1-f615f48d651e",
   "metadata": {},
   "outputs": [],
   "source": []
  }
 ],
 "metadata": {
  "kernelspec": {
   "display_name": "Python 3 (ipykernel)",
   "language": "python",
   "name": "python3"
  },
  "language_info": {
   "codemirror_mode": {
    "name": "ipython",
    "version": 3
   },
   "file_extension": ".py",
   "mimetype": "text/x-python",
   "name": "python",
   "nbconvert_exporter": "python",
   "pygments_lexer": "ipython3",
   "version": "3.10.12"
  }
 },
 "nbformat": 4,
 "nbformat_minor": 5
}
